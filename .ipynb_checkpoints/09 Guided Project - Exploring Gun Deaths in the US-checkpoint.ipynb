{
 "cells": [
  {
   "cell_type": "markdown",
   "metadata": {},
   "source": [
    "# 9. Exploring Gun Deaths in the US - Python Programming - Intermediate\n",
    "\n",
    "## 1. Introducing US Gun Deaths Data"
   ]
  },
  {
   "cell_type": "markdown",
   "metadata": {},
   "source": [
    "In this project, you'll be working with Jupyter notebook, and analyzing data on gun deaths in the US. By the end, you'll have a notebook that you can add to your portfolio or build on top of on your own. If you need help at any point, you can consult our solution notebook [here](https://github.com/dataquestio/solutions/blob/master/Mission218Solution.ipynb).\n",
    "\n",
    "The dataset came from [FiveThirtyEight](http://fivethirtyeight.com/), and can be found [here](https://github.com/fivethirtyeight/guns-data/blob/master/full_data.csv). The dataset is stored in the <font color='red'>guns.csv</font> file. It contains information on gun deaths in the US from <font color='red'>2012</font> to <font color='red'>2014</font>. Each row in the dataset represents a single fatality. The columns contain demographic and other information about the victim. Here are the first few rows of the dataset:\n",
    "\n",
    "<img src = 'table_gun_deaths.jpeg'/>\n",
    "\n",
    "As you can see above, the first row of the data is a header row, which tells you what kind of data is in each column of the CSV file. Each row contains information about the fatality, and the victim. Here's an explanation of each column:\n",
    "\n",
    "* -- this is an identifier column, which contains the row number. It's common in CSV files to include a unique identifier for each row, but we can ignore it in this analysis.\n",
    "* <font color='red'>year</font> -- the year in which the fatality occurred.\n",
    "* <font color='red'>month</font> -- the month in which the fatality occurred.\n",
    "* <font color='red'>intent</font> -- the intent of the perpetrator of the crime. This can be <font color='red'>Suicide</font>, <font color='red'>Accidental</font>, <font color='red'>NA</font>, <font color='red'>Homicide</font>, or <font color='red'>Undetermined</font>.\n",
    "* <font color='red'>police</font> -- whether a police officer was involved with the shooting. Either <font color='red'>0</font> (false) or <font color='red'>1</font> (true).\n",
    "* <font color='red'>sex</font> -- the gender of the victim. Either <font color='red'>M</font> or <font color='red'>F</font>.\n",
    "* <font color='red'>age</font> -- the age of the victim.\n",
    "* <font color='red'>race</font> -- the race of the victim. Either <font color='red'>Asian/Pacific Islander</font>, <font color='red'>Native American/Native Alaskan</font>, <font color='red'>Black</font>, <font color='red'>Hispanic</font>, or <font color='red'>White</font>.\n",
    "* <font color='red'>hispanic</font> -- a code indicating the Hispanic origin of the victim.\n",
    "* <font color='red'>place</font> -- where the shooting occurred. Has several categories, which you're encouraged to explore on your own.\n",
    "* <font color='red'>education</font> -- educational status of the victim. Can be one of the following:\n",
    "    * <font color='red'>1</font> -- Less than High School\n",
    "    * <font color='red'>2</font> -- Graduated from High School or equivalent\n",
    "    * <font color='red'>3</font> -- Some College\n",
    "    * <font color='red'>4</font> -- At least graduated from College\n",
    "    * <font color='red'>5</font> -- Not available\n",
    "\n",
    "In this project, we'll explore the dataset, and try to find patterns in the demographics of the victims. Our first step is to read the data in and take a look at it."
   ]
  },
  {
   "cell_type": "markdown",
   "metadata": {},
   "source": [
    "### Instructions"
   ]
  },
  {
   "cell_type": "markdown",
   "metadata": {},
   "source": [
    "* Read the dataset in as a list using the [csv](https://docs.python.org/3/library/csv.html) module.\n",
    "    * Import the <font color='red'>csv</font> module.\n",
    "    * Open the file using the [open()](https://docs.python.org/3/library/functions.html#open) function.\n",
    "    * Use the [csv.reader()](https://docs.python.org/3/library/csv.html#csv.reader) function to load the opened file.\n",
    "* Call [list()](https://docs.python.org/3/library/functions.html#func-list) on the result to get a list of all the data in the file.\n",
    "    * Assign the result to the variable <font color='red'>data</font>.\n",
    "* Display the first <font color='red'>5</font> rows of <font color='red'>data</font> to verify everything."
   ]
  },
  {
   "cell_type": "code",
   "execution_count": 1,
   "metadata": {},
   "outputs": [
    {
     "name": "stdout",
     "output_type": "stream",
     "text": [
      "[['', 'year', 'month', 'intent', 'police', 'sex', 'age', 'race', 'hispanic', 'place', 'education'], ['1', '2012', '01', 'Suicide', '0', 'M', '34', 'Asian/Pacific Islander', '100', 'Home', 'BA+'], ['2', '2012', '01', 'Suicide', '0', 'F', '21', 'White', '100', 'Street', 'Some college'], ['3', '2012', '01', 'Suicide', '0', 'M', '60', 'White', '100', 'Other specified', 'BA+'], ['4', '2012', '02', 'Suicide', '0', 'M', '64', 'White', '100', 'Home', 'BA+']]\n"
     ]
    }
   ],
   "source": [
    "import csv\n",
    "f = open(\"data/guns.csv\", 'r')\n",
    "csvreader = csv.reader(f)\n",
    "\n",
    "# Convert the result to a list\n",
    "data = list(csvreader)\n",
    "\n",
    "# Display the first 5 rows of data to verify everything.\n",
    "print(data[0:5])"
   ]
  },
  {
   "cell_type": "markdown",
   "metadata": {},
   "source": [
    "## 2. Removing Headers From A List Of Lists"
   ]
  },
  {
   "cell_type": "markdown",
   "metadata": {},
   "source": [
    "In the last screen, we read our data into the list of lists <font color='red'>data</font>. Each inner list in <font color='red'>data</font> represents a single row. Each item in the inner lists represents a single column for that row. Here's how the first <font color='red'>5</font> rows should have looked:\n",
    "\n",
    "    [\n",
    "        ['', 'year', 'month', 'intent', 'police', 'sex', 'age', 'race', 'hispanic', 'place', 'education'], \n",
    "        ['1', '2012', '01', 'Suicide', '0', 'M', '34', 'Asian/Pacific Islander', '100', 'Home', '4'], \n",
    "        ['2', '2012', '01', 'Suicide', '0', 'F', '21', 'White', '100', 'Street', '3'], \n",
    "        ['3', '2012', '01', 'Suicide', '0', 'M', '60', 'White', '100', 'Other specified', '4'], \n",
    "        ['4', '2012', '02', 'Suicide', '0', 'M', '64', 'White', '100', 'Home', '4']\n",
    "    ]\n",
    "\n",
    "You hopefully noticed that the first item in the <font color='red'>data</font> list is a header row. In order to analyze the data properly, we'll have to remove the header row, which contains the names of each column. We can remove this using list slicing. You can read more about lists [here](https://docs.python.org/3/tutorial/datastructures.html)."
   ]
  },
  {
   "cell_type": "markdown",
   "metadata": {},
   "source": [
    "### Instructions"
   ]
  },
  {
   "cell_type": "markdown",
   "metadata": {},
   "source": [
    "* Extract the first row of <font color='red'>data</font>, and assign it to the variable <font color='red'>headers</font>.\n",
    "* Remove the first row from <font color='red'>data</font>.\n",
    "* Display <font color='red'>headers</font>.\n",
    "* Display the first <font color='red'>5</font> rows of <font color='red'>data</font> to verify that you removed the header row properly."
   ]
  },
  {
   "cell_type": "code",
   "execution_count": 2,
   "metadata": {},
   "outputs": [
    {
     "name": "stdout",
     "output_type": "stream",
     "text": [
      "['', 'year', 'month', 'intent', 'police', 'sex', 'age', 'race', 'hispanic', 'place', 'education']\n"
     ]
    }
   ],
   "source": [
    "# Extract the first row of data, and assign it to the variable headers\n",
    "headers = data[0]\n",
    "\n",
    "# Remove the first row from data.\n",
    "data = data[1:]\n",
    "\n",
    "# Display headers.\n",
    "print(headers)"
   ]
  },
  {
   "cell_type": "code",
   "execution_count": 3,
   "metadata": {},
   "outputs": [
    {
     "name": "stdout",
     "output_type": "stream",
     "text": [
      "[['1', '2012', '01', 'Suicide', '0', 'M', '34', 'Asian/Pacific Islander', '100', 'Home', 'BA+'], ['2', '2012', '01', 'Suicide', '0', 'F', '21', 'White', '100', 'Street', 'Some college'], ['3', '2012', '01', 'Suicide', '0', 'M', '60', 'White', '100', 'Other specified', 'BA+'], ['4', '2012', '02', 'Suicide', '0', 'M', '64', 'White', '100', 'Home', 'BA+'], ['5', '2012', '02', 'Suicide', '0', 'M', '31', 'White', '100', 'Other specified', 'HS/GED']]\n"
     ]
    }
   ],
   "source": [
    "# Display the first 5 rows of data to verify that you removed the header row properly.\n",
    "print(data[0:5])"
   ]
  },
  {
   "cell_type": "markdown",
   "metadata": {},
   "source": [
    "## 3. Counting Gun Deaths By Year"
   ]
  },
  {
   "cell_type": "markdown",
   "metadata": {},
   "source": [
    "The <font color='red'>year</font> column contains information on the year in which gun deaths occurred. We can use this column to calculate how many gun deaths happened in each year.\n",
    "\n",
    "We can perform this operation by creating a dictionary, then keeping count in the dictionary of how many times each element occurs in the year column."
   ]
  },
  {
   "cell_type": "markdown",
   "metadata": {},
   "source": [
    "### Instructions"
   ]
  },
  {
   "cell_type": "markdown",
   "metadata": {},
   "source": [
    "* Use a list comprehension to extract the <font color='red'>year</font> column from <font color='red'>data</font>.\n",
    "    * Because the <font color='red'>year</font> column is the second column in the data, you'll need to get the element at index <font color='red'>1</font> in each row.\n",
    "    * Assign the result to the variable <font color='red'>years</font>.\n",
    "* Create an empty dictionary called <font color='red'>year_counts</font>.\n",
    "* Loop through each element in <font color='red'>years</font>.\n",
    "    * If the element isn't a key in <font color='red'>year_counts</font>, create it, and set the value to <font color='red'>1</font>.\n",
    "    * If the element is a key in <font color='red'>year_counts</font>, increment the value by one.\n",
    "* Display <font color='red'>year_counts</font> to see how many gun deaths occur in each year."
   ]
  },
  {
   "cell_type": "code",
   "execution_count": 4,
   "metadata": {},
   "outputs": [
    {
     "name": "stdout",
     "output_type": "stream",
     "text": [
      "{'2012': 33563, '2013': 33636, '2014': 33599}\n"
     ]
    }
   ],
   "source": [
    "# Get the year column\n",
    "years = [row[1] for row in data]\n",
    "\n",
    "# Create empty dictionary\n",
    "year_counts = {}\n",
    "\n",
    "# Loop through years and count years\n",
    "for year in years:\n",
    "    if year in year_counts:\n",
    "        year_counts[year] += 1\n",
    "    else:\n",
    "        year_counts[year] = 1\n",
    "        \n",
    "print(year_counts)"
   ]
  },
  {
   "cell_type": "markdown",
   "metadata": {},
   "source": [
    "## 4. Exploring Gun Deaths By Month And Year"
   ]
  },
  {
   "cell_type": "markdown",
   "metadata": {},
   "source": [
    "It looks like gun deaths didn't change much by year from <font color='red'>2012</font> to <font color='red'>2014</font>. Let's see if gun deaths in the US change by month and year. In order to do this, we'll have to create a [datetime.datetime](https://docs.python.org/3/library/datetime.html#datetime-objects) object using the <font color='red'>year</font> and <font color='red'>month</font> columns. We'll then be about to count up gun deaths by date, like we did by <font color='red'>year</font> in the last screen.\n",
    "\n",
    "As you may recall from an earlier mission, you can create a <font color='red'>datetime</font> object by specifying the <font color='red'>year</font>, <font color='red'>month</font>, and <font color='red'>day</font> keyword arguments:\n",
    "\n",
    "    date = datetime(year=2016, month=12, day=1)\n",
    "\n",
    "We can use the <font color='red'>month</font> and <font color='red'>year</font> column of <font color='red'>data</font> to create a datetime. We'll specify a fixed <font color='red'>day</font> because we're missing that column in our data.\n",
    "\n",
    "If we create a <font color='red'>datetime.datetime</font> object for each row, we can then count up how many gun deaths occurred in each month and year using a similar procedure to what we did in the last screen."
   ]
  },
  {
   "cell_type": "markdown",
   "metadata": {},
   "source": [
    "### Instructions"
   ]
  },
  {
   "cell_type": "markdown",
   "metadata": {},
   "source": [
    "* Use a list comprehension to create a <font color='red'>datetime.datetime</font> object for each row. Assign the result to <font color='red'>dates</font>.\n",
    "    * The <font color='red'>year</font> column in the second element in each row.\n",
    "    * The <font color='red'>month</font> column is the third element in each row.\n",
    "    * Make sure to convert <font color='red'>year</font> and <font color='red'>month</font> to integers using [int()](https://docs.python.org/3/library/functions.html#int).\n",
    "    * Pass <font color='red'>year</font>, <font color='red'>month</font>, and <font color='red'>day=1</font> into the <font color='red'>datetime.datetime()</font> function.\n",
    "* Display the first <font color='red'>5</font> rows in <font color='red'>dates</font> to verify everything worked.\n",
    "* Count up how many times each unique date occurs in <font color='red'>dates</font>. Assign the result to <font color='red'>date_counts</font>.\n",
    "    * This follows a similar procedure to what we did in the last screen with <font color='red'>year_counts</font>.\n",
    "* Display <font color='red'>date_counts</font>."
   ]
  },
  {
   "cell_type": "code",
   "execution_count": 5,
   "metadata": {},
   "outputs": [
    {
     "name": "stdout",
     "output_type": "stream",
     "text": [
      "[datetime.datetime(2012, 1, 1, 0, 0), datetime.datetime(2012, 1, 1, 0, 0), datetime.datetime(2012, 1, 1, 0, 0), datetime.datetime(2012, 2, 1, 0, 0), datetime.datetime(2012, 2, 1, 0, 0)]\n"
     ]
    }
   ],
   "source": [
    "import datetime\n",
    "\n",
    "# Use a list comprehension to create a datetime.datetime object for each row. Assign the result to dates\n",
    "dates = [datetime.datetime(year=int(row[1]), month=int(row[2]), day=1) for row in data]\n",
    "\n",
    "# Display the first 5 rows in dates to verify everything worked.\n",
    "print(dates[0:5])"
   ]
  },
  {
   "cell_type": "code",
   "execution_count": 6,
   "metadata": {},
   "outputs": [
    {
     "data": {
      "text/plain": [
       "{datetime.datetime(2012, 1, 1, 0, 0): 2758,\n",
       " datetime.datetime(2012, 2, 1, 0, 0): 2357,\n",
       " datetime.datetime(2012, 3, 1, 0, 0): 2743,\n",
       " datetime.datetime(2012, 4, 1, 0, 0): 2795,\n",
       " datetime.datetime(2012, 5, 1, 0, 0): 2999,\n",
       " datetime.datetime(2012, 6, 1, 0, 0): 2826,\n",
       " datetime.datetime(2012, 7, 1, 0, 0): 3026,\n",
       " datetime.datetime(2012, 8, 1, 0, 0): 2954,\n",
       " datetime.datetime(2012, 9, 1, 0, 0): 2852,\n",
       " datetime.datetime(2012, 10, 1, 0, 0): 2733,\n",
       " datetime.datetime(2012, 11, 1, 0, 0): 2729,\n",
       " datetime.datetime(2012, 12, 1, 0, 0): 2791,\n",
       " datetime.datetime(2013, 1, 1, 0, 0): 2864,\n",
       " datetime.datetime(2013, 2, 1, 0, 0): 2375,\n",
       " datetime.datetime(2013, 3, 1, 0, 0): 2862,\n",
       " datetime.datetime(2013, 4, 1, 0, 0): 2798,\n",
       " datetime.datetime(2013, 5, 1, 0, 0): 2806,\n",
       " datetime.datetime(2013, 6, 1, 0, 0): 2920,\n",
       " datetime.datetime(2013, 7, 1, 0, 0): 3079,\n",
       " datetime.datetime(2013, 8, 1, 0, 0): 2859,\n",
       " datetime.datetime(2013, 9, 1, 0, 0): 2742,\n",
       " datetime.datetime(2013, 10, 1, 0, 0): 2808,\n",
       " datetime.datetime(2013, 11, 1, 0, 0): 2758,\n",
       " datetime.datetime(2013, 12, 1, 0, 0): 2765,\n",
       " datetime.datetime(2014, 1, 1, 0, 0): 2651,\n",
       " datetime.datetime(2014, 2, 1, 0, 0): 2361,\n",
       " datetime.datetime(2014, 3, 1, 0, 0): 2684,\n",
       " datetime.datetime(2014, 4, 1, 0, 0): 2862,\n",
       " datetime.datetime(2014, 5, 1, 0, 0): 2864,\n",
       " datetime.datetime(2014, 6, 1, 0, 0): 2931,\n",
       " datetime.datetime(2014, 7, 1, 0, 0): 2884,\n",
       " datetime.datetime(2014, 8, 1, 0, 0): 2970,\n",
       " datetime.datetime(2014, 9, 1, 0, 0): 2914,\n",
       " datetime.datetime(2014, 10, 1, 0, 0): 2865,\n",
       " datetime.datetime(2014, 11, 1, 0, 0): 2756,\n",
       " datetime.datetime(2014, 12, 1, 0, 0): 2857}"
      ]
     },
     "execution_count": 6,
     "metadata": {},
     "output_type": "execute_result"
    }
   ],
   "source": [
    "# Count up how many times each unique date occurs in dates. Assign the result to date_counts.\n",
    "# Create empty dictionary\n",
    "date_counts = {}\n",
    "\n",
    "# Loop through dates and count each unique date\n",
    "for row in dates:\n",
    "    if row in date_counts:\n",
    "        date_counts[row] += 1\n",
    "    else:\n",
    "        date_counts[row] = 1\n",
    "\n",
    "# Display date_counts.\n",
    "date_counts"
   ]
  },
  {
   "cell_type": "markdown",
   "metadata": {},
   "source": [
    "## 5. Exploring Gun Deaths By Race And Sex"
   ]
  },
  {
   "cell_type": "markdown",
   "metadata": {},
   "source": [
    "The <font color='red'>sex</font> and <font color='red'>race</font> columns contain potentially interesting information on how gun deaths in the US vary by gender and race. Exploring both of these columns can be done with a similar dictionary counting technique to what we did earlier."
   ]
  },
  {
   "cell_type": "markdown",
   "metadata": {},
   "source": [
    "### Instructions"
   ]
  },
  {
   "cell_type": "markdown",
   "metadata": {},
   "source": [
    "* Count up how many times each item in the <font color='red'>sex</font> column occurs.\n",
    "    * Assign the result to <font color='red'>sex_counts</font>.\n",
    "* Count up how many times each item in the <font color='red'>race</font> column occurs.\n",
    "    * Assign the result to <font color='red'>race_counts</font>.\n",
    "* Display <font color='red'>race_counts</font> and <font color='red'>sex_counts</font> to verify your work, and see if you can spot any patterns.\n",
    "* Write a markdown cell detailing what you've learned so far, and what you think might need further examination."
   ]
  },
  {
   "cell_type": "code",
   "execution_count": 7,
   "metadata": {},
   "outputs": [
    {
     "name": "stdout",
     "output_type": "stream",
     "text": [
      "{'M': 86349, 'F': 14449}\n",
      "{'Asian/Pacific Islander': 1326, 'White': 66237, 'Native American/Native Alaskan': 917, 'Black': 23296, 'Hispanic': 9022}\n"
     ]
    }
   ],
   "source": [
    "# Get the sex column\n",
    "sex = [row[5] for row in data]\n",
    "\n",
    "# Get the race column\n",
    "race = [row[7] for row in data]\n",
    "\n",
    "# Create empty dictionary\n",
    "sex_counts = {}\n",
    "race_counts = {}\n",
    "\n",
    "# Loop through sex and count\n",
    "for row in sex:\n",
    "    if row in sex_counts:\n",
    "        sex_counts[row] += 1\n",
    "    else:\n",
    "        sex_counts[row] = 1\n",
    "\n",
    "# Loop through race and count\n",
    "for row in race:\n",
    "    if row in race_counts:\n",
    "        race_counts[row] += 1\n",
    "    else:\n",
    "        race_counts[row] = 1       \n",
    "              \n",
    "print(sex_counts)\n",
    "print(race_counts)"
   ]
  },
  {
   "cell_type": "markdown",
   "metadata": {},
   "source": [
    "There are 6 times more male gun deaths than female.  \n",
    "There are almost 3 times more white gun deaths than blacks"
   ]
  },
  {
   "cell_type": "markdown",
   "metadata": {},
   "source": [
    "## 6. Reading In A Second Dataset "
   ]
  },
  {
   "cell_type": "markdown",
   "metadata": {},
   "source": [
    "We explored gun deaths by race in the past screen. However, our analysis only gives us the total number of gun deaths by race in the US. Unless we know the proportion of each race in the US, we won't be able to meaningfully compare those numbers. What we really want to get is a rate of gun deaths per <font color='red'>100000</font> people of each race. In order to do this, we'll need to read in data about what percentage of the US population falls into each racial category. Luckily, we can import some census data to help us out.\n",
    "\n",
    "The data contains information on the total population of the US, as well as the total population of each racial group in the US. The data is stored in the <font color='red'>census.csv</font> file, and only consists of two rows:\n",
    "\n",
    "<img src = 'table_census.jpeg'>\n",
    "\n",
    "As you can see, the first row is a header row, and the second row consists of population counts. We'll need to read this file in using the <font color='red'>csv.reader()</font> function."
   ]
  },
  {
   "cell_type": "markdown",
   "metadata": {},
   "source": [
    "### Instructions"
   ]
  },
  {
   "cell_type": "markdown",
   "metadata": {},
   "source": [
    "* Read in <font color='red'>census.csv</font>, and convert to a list of lists. Assign the result to the <font color='red'>census</font> variable.\n",
    "* Display <font color='red'>census</font> to verify your work."
   ]
  },
  {
   "cell_type": "code",
   "execution_count": 12,
   "metadata": {},
   "outputs": [
    {
     "name": "stdout",
     "output_type": "stream",
     "text": [
      "[['', 'Id', 'Year', 'Id.1', 'Sex', 'Id.2', 'Hispanic Origin', 'Id.3', 'Id2', 'Geography', 'Total', 'Race Alone - White', 'Race Alone - Hispanic', 'Race Alone - Black or African American', 'Race Alone - American Indian and Alaska Native', 'Race Alone - Asian', 'Race Alone - Native Hawaiian and Other Pacific Islander', 'Two or More Races'], ['0', 'cen42010', 'April 1 2010 Census', 'totsex', 'Both Sexes', 'tothisp', 'Total', '0100000US', 'NaN', 'United States', '308745538', '197318956', '44618105', '40250635', '3739506', '15159516', '674625', '6984195']]\n"
     ]
    }
   ],
   "source": [
    "# Read in census.csv, and convert to a list of lists. Assign the result to the census variable.\n",
    "import csv\n",
    "f = open(\"data/census.csv\", 'r')\n",
    "csvreader = csv.reader(f)\n",
    "\n",
    "# Convert the result to a list\n",
    "census = list(csvreader)\n",
    "\n",
    "# Display census\n",
    "print(census)"
   ]
  },
  {
   "cell_type": "markdown",
   "metadata": {},
   "source": [
    "## 7. Computing Rates Of Gun Deaths Per Race"
   ]
  },
  {
   "cell_type": "markdown",
   "metadata": {},
   "source": [
    "Earlier, we computed the number of gun deaths per race, and created a dictionary, <font color='red'>race_counts</font>, that looked like this:\n",
    "\n",
    "    {\n",
    "\n",
    "         'Asian/Pacific Islander': 1326,\n",
    "\n",
    "         'Black': 23296,\n",
    "\n",
    "         'Hispanic': 9022,\n",
    "\n",
    "         'Native American/Native Alaskan': 917,\n",
    "\n",
    "         'White': 66237\n",
    "\n",
    "    }\n",
    "\n",
    "In order to get from the raw counts of gun deaths by race to a rate of gun deaths per <font color='red'>100000</font> people in each race, we'll need to divide the total number of gun deaths by the population of each race. From the census dataset, we know that the number of people in the <font color='red'>White</font> racial category is <font color='red'>197318956</font>. We'd divide <font color='red'>66237</font> by <font color='red'>197318956</font>:\n",
    "\n",
    "    white_gun_death_rate = 66237 / 197318956\n",
    "\n",
    "This gives us the percentage chance that a given person in the <font color='red'>White</font> census race category would have been killed by a gun in the US from <font color='red'>2012</font> to <font color='red'>2014</font>. If you do this computation, you'll see that the rate is a very small number, <font color='red'>0.0003356849303419181</font>. It's for this reason that it's typical to express crime statistics as the \"rate per 100000\". This tells you the number of people in a given group out of every <font color='red'>100000</font> that were killed by guns in the US. To get this, we just multiply by <font color='red'>100000</font>:\n",
    "\n",
    "    rate_per_hundredk = 0.0003356849303419181 * 100000\n",
    "\n",
    "This gives us <font color='red'>33.56</font>, which we can interpret as \"<font color='red'>33.56</font> out of every <font color='red'>100000</font> people in the <font color='red'>White</font> census race category in the US were killed by guns between <font color='red'>2012</font> and <font color='red'>2014</font>\".\n",
    "\n",
    "We'll need to calculate these same rates for each racial category. The only stumbling block is that the racial categories are named slightly differently in <font color='red'>census</font> and in <font color='red'>data</font>. We'll need to manually construct a dictionary that allows us to map between them, and perform the division.\n",
    "\n",
    "Here's a list of the race name in <font color='red'>data</font>, and the corresponding race name in <font color='red'>census</font>:\n",
    "\n",
    "* <font color='red'>Asian/Pacific Islander</font> -- <font color='red'>Race Alone - Asian</font> plus <font color='red'>Race Alone - Native Hawaiian and Other Pacific Islander</font>.\n",
    "* <font color='red'>Black</font> -- <font color='red'>Race Alone - Black or African American</font>.\n",
    "* <font color='red'>Hispanic</font> -- <font color='red'>Race Alone - Hispanic</font>\n",
    "* <font color='red'>Native American/Native Alaskan</font> -- <font color='red'>Race Alone - American Indian and Alaska Native</font>\n",
    "* <font color='red'>White</font> -- <font color='red'>Race Alone - White</font>\n",
    "\n",
    "We'll need to create a dictionary that has each race name from <font color='red'>data</font> as a key, and has the population count for the races from <font color='red'>census</font> as the values."
   ]
  },
  {
   "cell_type": "markdown",
   "metadata": {},
   "source": [
    "### Instructions"
   ]
  },
  {
   "cell_type": "markdown",
   "metadata": {},
   "source": [
    "* Manually create a dictionary, <font color='red'>mapping</font> that maps each key from <font color='red'>race_counts</font> to the population count of the race from <font color='red'>census</font>.\n",
    "    * The keys in the dictionary should be <font color='red'>Asian/Pacific Islander</font>, <font color='red'>Black</font>, <font color='red'>Native American/Native Alaskan</font>, <font color='red'>Hispanic</font>, and <font color='red'>White</font>.\n",
    "    * In the case of <font color='red'>Asian/Pacific Islander</font>, you'll need to add the counts from <font color='red'>census</font> for <font color='red'>Race Alone - Asian</font>, and <font color='red'>Race Alone - Native Hawaiian and Other Pacific Islander</font>.\n",
    "* Create an empty dictionary, <font color='red'>race_per_hundredk</font>.\n",
    "* Loop through each key in <font color='red'>race_counts</font>.\n",
    "    * Divide the value associated with the key in <font color='red'>race_counts</font> by the value associated with the key in <font color='red'>mapping</font>.\n",
    "    * Multiply by <font color='red'>100000</font>.\n",
    "    * Assign the result to the same key in <font color='red'>race_per_hundredk</font>.\n",
    "* When you're done, <font color='red'>race_per_hundredk</font> should contain the rate of gun deaths per <font color='red'>100000</font> people for each racial category.\n",
    "    Print <font color='red'>race_per_hundredk</font> to verify your work."
   ]
  },
  {
   "cell_type": "code",
   "execution_count": 18,
   "metadata": {},
   "outputs": [
    {
     "data": {
      "text/plain": [
       "{'Asian/Pacific Islander': 8.374309664161762,\n",
       " 'Black': 57.8773477735196,\n",
       " 'Hispanic': 20.220491210910907,\n",
       " 'Native American/Native Alaskan': 24.521955573811088,\n",
       " 'White': 33.56849303419181}"
      ]
     },
     "execution_count": 18,
     "metadata": {},
     "output_type": "execute_result"
    }
   ],
   "source": [
    "# Manually create a dictionary, mapping that maps each key from race_counts \n",
    "# to the population count of the race from census.\n",
    "mapping = {\n",
    "    'Asian/Pacific Islander': 15159516+674625,\n",
    "    'Black': 40250635,\n",
    "    'Native American/Native Alaskan': 3739506,\n",
    "    'Hispanic': 44618105,\n",
    "    'White': 197318956\n",
    "}\n",
    "\n",
    "# Create an empty dictionary\n",
    "race_per_hundredk = {}\n",
    "\n",
    "# Loop through each key in race_counts\n",
    "for i in race_counts:\n",
    "    val = race_counts[i] / mapping[i] * 100000\n",
    "    race_per_hundredk[i] = val\n",
    "    \n",
    "race_per_hundredk"
   ]
  },
  {
   "cell_type": "markdown",
   "metadata": {},
   "source": [
    "## 8. Filtering By Intent"
   ]
  },
  {
   "cell_type": "markdown",
   "metadata": {},
   "source": [
    "We can filter our results, and restrict them to the <font color='red'>Homicide</font> intent. This will tell us what the gun-related murder rate per <font color='red'>100000</font> people in each racial category is. In order to do this, we'll need to redo our work in generating <font color='red'>race_counts</font>, but only count rows where the <font color='red'>intent</font> was <font color='red'>Homicide</font>.\n",
    "\n",
    "We can do this by first extracting the <font color='red'>intent</font> column, then using the [enumerate()](https://docs.python.org/3/library/functions.html#enumerate) function to loop through each index and value in the race column. If the value in the same position in <font color='red'>intents</font> is <font color='red'>Homicide</font>, we'll count the value in the race column.\n",
    "\n",
    "Finally, we'll use the <font color='red'>mapping</font> dictionary to convert from raw counts to rates."
   ]
  },
  {
   "cell_type": "markdown",
   "metadata": {},
   "source": [
    "### Instructions"
   ]
  },
  {
   "cell_type": "markdown",
   "metadata": {},
   "source": [
    "* Extract the <font color='red'>intent</font> column using a list comprehension. The <font color='red'>intent</font> column is the fourth column in <font color='red'>data</font>.\n",
    "    * Assign the result to <font color='red'>intents.\n",
    "* Extract the <font color='red'>race</font> column using a list comprehension. The <font color='red'>race</font> column is the eighth column in <font color='red'>data</font>.\n",
    "    * Assign the result to <font color='red'>races</font>.\n",
    "* Create an empty dictionary called <font color='red'>homicide_race_counts</font>\n",
    "* Use the <font color='red'>enumerate()</font> function to loop through each item in <font color='red'>races</font>. The position should be assigned to the loop variable <font color='red'>i</font>, and the value to the loop variable <font color='red'>race</font>.\n",
    "    * Check the value at position <font color='red'>i</font> in <font color='red'>intents</font>.\n",
    "        * If the value at position <font color='red'>i</font> in <font color='red'>intents</font> is <font color='red'>Homicide</font>:\n",
    "            * If the key <font color='red'>race</font> doesn't exist in <font color='red'>homicide_race_counts</font>, create it.\n",
    "            * Add <font color='red'>1</font> to the value associated with <font color='red'>race</font> in <font color='red'>homicide_race_counts</font>.\n",
    "* When you're done, <font color='red'>homicide_race_counts</font> should have one key for each of the racial categories in <font color='red'>data</font>. The associated value should be the number of gun deaths by homicide for that race.\n",
    "* Perform the same procedure we did in the last screen using <font color='red'>mapping</font> on <font color='red'>homicide_race_counts</font> to get from raw numbers to rates per <font color='red'>100000</font>.\n",
    "* Display <font color='red'>homicide_race_counts</font> to verify your work.\n",
    "* Write up your findings in a markdown cell.\n",
    "* Write up any next steps you want to pursue with the data in a markdown cell."
   ]
  },
  {
   "cell_type": "code",
   "execution_count": 23,
   "metadata": {},
   "outputs": [
    {
     "data": {
      "text/plain": [
       "{'Asian/Pacific Islander': 3.530346230970155,\n",
       " 'Black': 48.471284987180944,\n",
       " 'Hispanic': 12.627161104219914,\n",
       " 'Native American/Native Alaskan': 8.717729026240365,\n",
       " 'White': 4.6356417981453335}"
      ]
     },
     "execution_count": 23,
     "metadata": {},
     "output_type": "execute_result"
    }
   ],
   "source": [
    "# Extract the intent column\n",
    "intents = [row[3] for row in data]\n",
    "\n",
    "# Extract the race column\n",
    "races = [row[7] for row in data]\n",
    "\n",
    "# Craete an empty dictionary\n",
    "homicide_race_counts = {}\n",
    "\n",
    "# Use the enumerate() function to loop through each item in races. \n",
    "# The position should be assigned to the loop variable i, and the value to the loop variable race.\n",
    "for i, race in enumerate(races):\n",
    "    if intents[i] == 'Homicide':\n",
    "        if race in homicide_race_counts:\n",
    "            homicide_race_counts[race] += 1\n",
    "        else:\n",
    "            homicide_race_counts[race] = 1\n",
    "            \n",
    "# print(homicide_race_counts)\n",
    "# Perform the same procedure we did in the last screen \n",
    "# using mapping on homicide_race_counts to get from raw numbers to rates per 100000.\n",
    "\n",
    "# Loop through each key in homicide_race_counts\n",
    "for i in homicide_race_counts:\n",
    "    homicide_race_counts[i] = homicide_race_counts[i] / mapping[i] * 100000\n",
    "    \n",
    "homicide_race_counts"
   ]
  },
  {
   "cell_type": "markdown",
   "metadata": {},
   "source": [
    "Per 100,000 almost 10,5 times more blacks die of homicide than whites."
   ]
  },
  {
   "cell_type": "markdown",
   "metadata": {},
   "source": [
    "## 9. Next Steps"
   ]
  },
  {
   "cell_type": "markdown",
   "metadata": {},
   "source": [
    "That's it for the guided steps! We recommend exploring the data more on your own.\n",
    "\n",
    "Here are some potential next steps:\n",
    "\n",
    "* Figure out the link, if any, between month and homicide rate.\n",
    "* Explore the homicide rate by gender.\n",
    "* Explore the rates of other intents, like <font color='red'>Accidental</font>, by gender and race.\n",
    "* Find out if gun death rates correlate to location and education.\n",
    "\n",
    "We recommend creating a [Github](https://github.com/) repository and placing this project there. It will help other people, including employers, see your work. As you start to put multiple projects on Github, you'll have the beginnings of a strong portfolio. You're welcome to keep working on the project here, but we recommend downloading it to your computer using the download icon above and working on it there."
   ]
  }
 ],
 "metadata": {
  "kernelspec": {
   "display_name": "Python 3",
   "language": "python",
   "name": "python3"
  },
  "language_info": {
   "codemirror_mode": {
    "name": "ipython",
    "version": 3
   },
   "file_extension": ".py",
   "mimetype": "text/x-python",
   "name": "python",
   "nbconvert_exporter": "python",
   "pygments_lexer": "ipython3",
   "version": "3.6.0"
  }
 },
 "nbformat": 4,
 "nbformat_minor": 2
}
